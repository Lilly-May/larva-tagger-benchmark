{
 "cells": [
  {
   "cell_type": "code",
   "execution_count": 1,
   "metadata": {
    "collapsed": true,
    "ExecuteTime": {
     "end_time": "2023-08-21T15:40:35.765521Z",
     "start_time": "2023-08-21T15:40:35.455129Z"
    }
   },
   "outputs": [],
   "source": [
    "import shutil\n",
    "import subprocess\n",
    "import pandas as pd\n",
    "import os\n",
    "import datetime"
   ]
  },
  {
   "cell_type": "markdown",
   "source": [
    "# DeepLabCut\n",
    "After training a DeepLabCut model, we used it to predict the spine points of all larvae in various videos. For each video, the output is a .h5 file containing the predicted coordinates for the video. The following code converts the .h5 file to a .spine file, which enables a direct comparison to the other investigated trackers."
   ],
   "metadata": {
    "collapsed": false
   }
  },
  {
   "cell_type": "code",
   "execution_count": 80,
   "outputs": [],
   "source": [
    "def convert_DLC_h5_to_spine(h5_path, output_path):\n",
    "    date_time = datetime.datetime.now().strftime('%Y%m%d_%H%M%S')\n",
    "    video_name = os.path.basename(h5_path).split('.')[0].split('DLC')[0]\n",
    "    df = pd.read_hdf(h5_path)\n",
    "\n",
    "    print(f'Processing {video_name}')\n",
    "\n",
    "    # Open output file\n",
    "    output_file = open(f'{output_path}/{video_name}.spine', 'w')\n",
    "\n",
    "    individuals = df.columns.levels[1]\n",
    "    # Iterate over individuals\n",
    "    for individual in individuals:\n",
    "        indiv_df = df['DLC_dlcrnetms5_Three_Selected_VideosJul19shuffle1_100000'][individual]\n",
    "        # Iterate over rows in dataframe\n",
    "        for index, row in indiv_df.iterrows():\n",
    "            # Get larva id with leading zeros, the naming convention for the individual larvae may vary, hence the if-else\n",
    "            if individual.startswith('ind'):\n",
    "                larva_id = \"{0:0>5}\".format(int(individual[3:]))\n",
    "            elif individual.startswith('larvae'):\n",
    "                larva_id = \"{0:0>5}\".format(int(individual[6:]))\n",
    "            else:\n",
    "                raise ValueError('Unknown individual name')\n",
    "            # Calculate time based on frame with 30 fps; with 3 digits after decimal point\n",
    "            time = \"{:.3f}\".format((index + 1) / 30)\n",
    "\n",
    "            coordinates = []\n",
    "            for body_part in ['head-tip', 'head-lower', 'middle-head', 'middle', 'middle-tail', 'tail-lower', 'tail']:\n",
    "                coordinates.extend([row[body_part]['x'], row[body_part]['y']])\n",
    "\n",
    "            # If all coordinates are not NaN, write to output file\n",
    "            if not 'nan' in [str(coord) for coord in coordinates]:\n",
    "                out = [date_time, larva_id, time]\n",
    "                out.extend(coordinates)\n",
    "                output_file.write(' '.join(map(str, out)) + os.linesep)\n",
    "\n",
    "    output_file.close()"
   ],
   "metadata": {
    "collapsed": false,
    "ExecuteTime": {
     "end_time": "2023-08-17T12:57:13.608907Z",
     "start_time": "2023-08-17T12:57:13.607171Z"
    }
   }
  },
  {
   "cell_type": "code",
   "execution_count": 81,
   "outputs": [
    {
     "name": "stdout",
     "output_type": "stream",
     "text": [
      "Processing A1DF31_A1_2022-07-12-150920-0000_ffv1\n",
      "Processing A1DF35_A1_2022-07-07-164027-0000_ffv1\n",
      "Processing A1DF39_B1_2022-07-12-185350-0000_ffv1\n",
      "Processing A1DF38_A1_2022-07-12-194950-0000_ffv1\n",
      "Processing A1DF33_B1_2022-07-07-153521-0000_ffv1\n",
      "Processing A1DF36_A1_2022-07-07-142945-0000_ffv1\n",
      "Processing A1DF33_A1_2022-07-07-153358-0000_ffv1\n",
      "Processing A1DF35_B1_2022-07-07-164359-0000_ffv1\n",
      "Processing A1DF39_A1_2022-07-12-184950-0000_ffv1\n",
      "Processing A1DF36_B1_2022-07-07-143248-0000_ffv1\n",
      "Processing A1DF34_A1_2022-07-07-133023-0000_ffv1\n",
      "Processing A1DF32_B1_2022-07-12-161457-0000_ffv1\n",
      "Processing A1DF32_A1_2022-07-12-161124-0000_ffv1\n",
      "Processing A1DF37_A1_2022-07-06-093303-0000_ffv1\n",
      "Processing A1DF33_A2_2022-07-07-153918-0000_ffv1\n",
      "Processing A1DF37_B1_2022-07-06-093415-0000_ffv1\n",
      "Processing A1DF34_B1_2022-07-07-133354-0000_ffv1\n",
      "Processing A1DF38_B1_2022-07-12-195403-0000_ffv1\n"
     ]
    }
   ],
   "source": [
    "input_dir = '/Path/to/DLC/output_files'\n",
    "output_dir = '/Path/to/DLC/spine_files'\n",
    "for file in os.listdir(input_dir):\n",
    "    if file.endswith('filtered.h5'):\n",
    "        video_name = file.split('DLC')[0]\n",
    "        os.mkdir(os.path.join(output_dir, video_name))\n",
    "        convert_DLC_h5_to_spine(os.path.join(input_dir, file), os.path.join(output_dir, video_name))"
   ],
   "metadata": {
    "collapsed": false,
    "ExecuteTime": {
     "end_time": "2023-08-17T13:06:41.958850Z",
     "start_time": "2023-08-17T12:57:14.269935Z"
    }
   }
  },
  {
   "cell_type": "markdown",
   "source": [
    "# MWT Tracker\n",
    "We use the [MWT command line version](https://gitlab.com/larvataggerpipelines/mwt-cli) to process the videos. The tool must be installed first by cloning the linked repository. The installation instructions can be found in the repository. We expect a mwt-cli directory as working directory, which is simply the cloned repository."
   ],
   "metadata": {
    "collapsed": false
   }
  },
  {
   "cell_type": "code",
   "execution_count": 4,
   "outputs": [],
   "source": [
    "# Change the following paths to your needs\n",
    "\n",
    "# Directory containing all videos to be processed\n",
    "video_dir = '/Path/to/Larvae_Videos'\n",
    "# Path to the mwt-cli installation; Installation instructions: https://gitlab.com/larvataggerpipelines/mwt-cli\n",
    "working_dir = '/Path/to/mwt-cli'\n",
    "# Directory to save the output spine files, the output for each video is saved in a subdirectory named after the video\n",
    "output_dir_mwt = '/Path/to/Larvae_Tracking_Benchmarking/Results/MWT'"
   ],
   "metadata": {
    "collapsed": false,
    "ExecuteTime": {
     "end_time": "2023-08-21T15:42:16.356748Z",
     "start_time": "2023-08-21T15:42:16.350649Z"
    }
   }
  },
  {
   "cell_type": "code",
   "execution_count": 6,
   "outputs": [
    {
     "name": "stdout",
     "output_type": "stream",
     "text": [
      "Processing A1DF35_B1_2022-07-07-164359-0000_ffv1\n",
      "Processing A1DF34_A1_2022-07-07-133023-0000_ffv1\n",
      "Processing A1DF37_A1_2022-07-06-093303-0000_ffv1\n",
      "Processing A1DF36_A1_2022-07-07-142945-0000_ffv1\n",
      "Processing A1DF33_A1_2022-07-07-153358-0000_ffv1\n",
      "Processing A1DF39_B1_2022-07-12-185350-0000_ffv1\n",
      "Processing A1DF38_B1_2022-07-12-195403-0000_ffv1\n",
      "Processing A1DF33_B1_2022-07-07-153521-0000_ffv1\n",
      "Processing A1DF32_A1_2022-07-12-161124-0000_ffv1\n",
      "Processing A1DF39_A1_2022-07-12-184950-0000_ffv1\n",
      "Processing A1DF37_B1_2022-07-06-093415-0000_ffv1\n",
      "Processing A1DF31_A1_2022-07-12-150920-0000_ffv1\n",
      "Processing A1DF35_A1_2022-07-07-164027-0000_ffv1\n",
      "Processing A1DF36_B1_2022-07-07-143248-0000_ffv1\n",
      "Processing A1DF32_B1_2022-07-12-161457-0000_ffv1\n",
      "Processing A1DF38_A1_2022-07-12-194950-0000_ffv1\n",
      "Processing A1DF33_A2_2022-07-07-153918-0000_ffv1\n",
      "Processing A1DF34_B1_2022-07-07-133354-0000_ffv1\n"
     ]
    }
   ],
   "source": [
    "# Optimized hyperparameters\n",
    "pixel_thr1 = 231\n",
    "pixel_thr2 = 249\n",
    "size_thr1 = 15\n",
    "size_thr2 = 15\n",
    "\n",
    "date_time = datetime.datetime.now().strftime('%Y%m%d_%H%M%S')\n",
    "\n",
    "# Iterate over all videos in video directory and process them\n",
    "for file in os.listdir(video_dir):\n",
    "    video_path = os.path.join(video_dir, file)\n",
    "    video_id = os.path.basename(video_path).split('.')[0]\n",
    "\n",
    "    print(f'Processing {video_id}')\n",
    "    \n",
    "    # Create a subdirectory for the output files of the current video\n",
    "    os.mkdir(f'{output_dir_mwt}/{video_id}')\n",
    "\n",
    "    # Process video with MWT\n",
    "    command = ['julia', '--project=.', f'src/mwt-cli.jl', video_path,\n",
    "               f'{output_dir_mwt}/{video_id}', '--frame-rate', '30', '--pixel-thresholds', str(pixel_thr1),\n",
    "               str(pixel_thr2), '--size-thresholds', str(size_thr1), str(size_thr2), '--pixel-size', '0.073',\n",
    "               '--date-time', date_time]\n",
    "    subprocess.run(command, cwd=working_dir, stdout=subprocess.DEVNULL, stderr=subprocess.DEVNULL)\n",
    "\n",
    "    # Rename output file and move to output directory\n",
    "    for file in os.listdir(f'{output_dir_mwt}/{video_id}/{date_time}'):\n",
    "        shutil.move(f'{output_dir_mwt}/{video_id}/{date_time}/{file}',\n",
    "                    f'{output_dir_mwt}/{video_id}/{file.replace(\"20\", video_id)}')\n",
    "    os.rmdir(f'{output_dir_mwt}/{video_id}/{date_time}')"
   ],
   "metadata": {
    "collapsed": false,
    "ExecuteTime": {
     "end_time": "2023-08-21T15:55:37.168205Z",
     "start_time": "2023-08-21T15:48:46.667522Z"
    }
   }
  },
  {
   "cell_type": "markdown",
   "source": [
    "# WF-NTP Tracker\n",
    "We use the [WF-NTP command line version](https://github.com/Lilly-May/wf-ntp-cli) to process the videos. The tool must be installed first by cloning the linked repository. The installation instructions can be found in the repository. We expect a wf-ntp-cli directory as working directory, which is simply the cloned repository."
   ],
   "metadata": {
    "collapsed": false
   }
  },
  {
   "cell_type": "code",
   "execution_count": 23,
   "outputs": [],
   "source": [
    "# Change the following paths to your needs\n",
    "\n",
    "# Directory containing all videos to be processed\n",
    "video_dir = '/Path/to/Larvae_Videos'\n",
    "# Path to the mwt-cli installation; Installation instructions: https://github.com/Lilly-May/wf-ntp-cli\n",
    "working_dir = '/Path/to/wf-ntp-cli'\n",
    "# Directory to save the output spine files, the output for each video is saved in a subdirectory named after the video\n",
    "output_dir_wf_ntp = '/Path/to/Larvae_Tracking_Benchmarking/Results/WF_NTP'"
   ],
   "metadata": {
    "collapsed": false,
    "ExecuteTime": {
     "end_time": "2023-08-16T14:37:01.077338Z",
     "start_time": "2023-08-16T14:37:01.073107Z"
    }
   }
  },
  {
   "cell_type": "code",
   "execution_count": null,
   "outputs": [],
   "source": [
    "# Optimized hyperparameters\n",
    "threshold = 15\n",
    "opening = 2\n",
    "closing = 4\n",
    "min_size = 31\n",
    "max_size = 2558\n",
    "minimum_ecc = 0.816162\n",
    "\n",
    "hyperparams = f'--fps 30 --px_to_mm 0.073 --threshold {threshold} --opening {opening} --closing {closing} --min_size {min_size} --max_size {max_size} --minimum_ecc {minimum_ecc} --skeletonize True --do_full_prune True'.split(' ')\n",
    "\n",
    "date_time = datetime.datetime.now().strftime('%Y%m%d_%H%M%S')\n",
    "\n",
    "# Iterate over all videos in video directory and process them\n",
    "for file in os.listdir(video_dir):\n",
    "    video_path = os.path.join(video_dir, file)\n",
    "    video_id = os.path.basename(video_path).split('.')[0]\n",
    "    print(f'Processing {video_id}')\n",
    "    os.makedirs(f'{output_dir_wf_ntp}/{video_id}/{date_time}')\n",
    "\n",
    "    # Process video with WF-NTP\n",
    "    command = ['python', f'{working_dir}/src/wf_ntp_cli.py', video_path, f'{output_dir_wf_ntp}/{video_id}/{date_time}']\n",
    "    command.extend(hyperparams)\n",
    "    subprocess.run(command, cwd=working_dir, stdout=subprocess.DEVNULL, stderr=subprocess.DEVNULL)\n",
    "\n",
    "    # Rename output file and move to output directory\n",
    "    for file in os.listdir(f'{output_dir_wf_ntp}/{video_id}/{date_time}'):\n",
    "        shutil.move(f'{output_dir_wf_ntp}/{video_id}/{date_time}/{file}', f'{output_dir_wf_ntp}/{video_id}/{file}')\n",
    "    os.rmdir(f'{output_dir_wf_ntp}/{video_id}/{date_time}')"
   ],
   "metadata": {
    "collapsed": false
   }
  },
  {
   "cell_type": "markdown",
   "source": [
    "# Tierpsy Tracker\n",
    "We use the [Tierpsy command line version](https://gitlab.com/larvataggerpipelines/tierpsy-cli) to process the videos. The tool must be installed first by cloning the linked repository. The installation instructions can be found in the repository. We expect a tierpsy directory as working directory, which is simply the cloned repository."
   ],
   "metadata": {
    "collapsed": false
   }
  },
  {
   "cell_type": "code",
   "execution_count": null,
   "outputs": [],
   "source": [
    "# Change the following paths to your needs\n",
    "\n",
    "# Directory containing all videos to be processed\n",
    "video_dir = '/Path/to/Larvae_Videos'\n",
    "# Path to the mwt-cli installation; Installation instructions: https://github.com/Lilly-May/wf-ntp-cli\n",
    "working_dir = '/Path/to/tierpsy-cli'\n",
    "# Directory to save the output spine files, the output for each video is saved in a subdirectory named after the video\n",
    "output_dir_tierpsy = '/Path/to/Larvae_Tracking_Benchmarking/Results/Tierpsy'"
   ],
   "metadata": {
    "collapsed": false
   }
  },
  {
   "cell_type": "code",
   "execution_count": null,
   "outputs": [],
   "source": [
    "# Optimized hyperparameters\n",
    "mask_min_area = 55\n",
    "mask_max_area = 3014\n",
    "thresh_C = 4\n",
    "thresh_block_size = 60\n",
    "dilation_size = 12\n",
    "strel_size = 5\n",
    "worm_bw_thresh_factor = 0.9648733750186274\n",
    "\n",
    "date_time = datetime.datetime.now().strftime('%Y%m%d_%H%M%S')\n",
    "\n",
    "hyperparams = f'--frame-rate 30 --mask-min-area {mask_min_area} --mask-max-area {mask_max_area} --strel-size {strel_size} --worm-bw-thresh-factor {worm_bw_thresh_factor} --thresh-block-size {thresh_block_size} --dilation-size {dilation_size} --thresh-C {thresh_C} --pixel-size 0.073 --date-time {date_time}'.split(' ')\n",
    "\n",
    "# Iterate over all videos in video directory and process them\n",
    "for file in os.listdir(video_dir):\n",
    "    video_path = os.path.join(video_dir, file)\n",
    "    video_id = os.path.basename(video_path).split('.')[0]\n",
    "    print(f'Processing {video_id}')\n",
    "    os.mkdir(f'{output_dir_mwt}/{video_id}')\n",
    "\n",
    "    command = ['julia', '--project=.', f'src/tierpsy-cli.jl', video_path,\n",
    "                   f'{output_dir_tierpsy}/{video_id}/{date_time}']\n",
    "    command.extend(hyperparams)\n",
    "    subprocess.run(command, cwd=working_dir, stdout=subprocess.DEVNULL, stderr=subprocess.DEVNULL)\n",
    "\n",
    "    # Rename output file and move to output directory\n",
    "    for file in os.listdir(f'{output_dir_tierpsy}/{video_id}/{date_time}'):\n",
    "        shutil.move(f'{output_dir_tierpsy}/{video_id}/{date_time}/{file}', f'{output_dir_tierpsy}/{video_id}/{file}')\n",
    "    os.rmdir(f'{output_dir_tierpsy}/{video_id}/{date_time}')"
   ],
   "metadata": {
    "collapsed": false
   }
  }
 ],
 "metadata": {
  "kernelspec": {
   "display_name": "Python 3",
   "language": "python",
   "name": "python3"
  },
  "language_info": {
   "codemirror_mode": {
    "name": "ipython",
    "version": 2
   },
   "file_extension": ".py",
   "mimetype": "text/x-python",
   "name": "python",
   "nbconvert_exporter": "python",
   "pygments_lexer": "ipython2",
   "version": "2.7.6"
  }
 },
 "nbformat": 4,
 "nbformat_minor": 0
}
